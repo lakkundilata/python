{
 "cells": [
  {
   "cell_type": "code",
   "execution_count": 18,
   "metadata": {},
   "outputs": [
    {
     "ename": "TypeError",
     "evalue": "unsupported operand type(s) for +: 'int' and 'str'",
     "output_type": "error",
     "traceback": [
      "\u001b[1;31m---------------------------------------------------------------------------\u001b[0m",
      "\u001b[1;31mTypeError\u001b[0m                                 Traceback (most recent call last)",
      "Cell \u001b[1;32mIn[18], line 9\u001b[0m\n\u001b[0;32m      7\u001b[0m fd \u001b[39m=\u001b[39m \u001b[39mopen\u001b[39m(\u001b[39mr\u001b[39m\u001b[39m\"\u001b[39m\u001b[39ma.txt\u001b[39m\u001b[39m\"\u001b[39m,\u001b[39m\"\u001b[39m\u001b[39mw\u001b[39m\u001b[39m\"\u001b[39m)\n\u001b[0;32m      8\u001b[0m \u001b[39mfor\u001b[39;00m i \u001b[39min\u001b[39;00m \u001b[39mrange\u001b[39m(\u001b[39m5\u001b[39m):\n\u001b[1;32m----> 9\u001b[0m     record\u001b[39m=\u001b[39m names[i]\u001b[39m+\u001b[39m\u001b[39mstr\u001b[39m (\u001b[39m\"\u001b[39m\u001b[39m \u001b[39m\u001b[39m\"\u001b[39m) \u001b[39m+\u001b[39m \u001b[39mstr\u001b[39m(grades[i]\u001b[39m+\u001b[39;49m\u001b[39mstr\u001b[39;49m(\u001b[39m\"\u001b[39;49m\u001b[39m\\n\u001b[39;49;00m\u001b[39m\"\u001b[39;49m))\n\u001b[0;32m     10\u001b[0m     val\u001b[39m=\u001b[39mfd\u001b[39m.\u001b[39mwrite(record)\n\u001b[0;32m     11\u001b[0m fd\u001b[39m.\u001b[39mclose()\n",
      "\u001b[1;31mTypeError\u001b[0m: unsupported operand type(s) for +: 'int' and 'str'"
     ]
    }
   ],
   "source": [
    "names=['a','b','c','d','e']\n",
    "grades=[1,4,5,6,7]\n",
    "\n",
    "\n",
    "\n",
    "#1st code writing\n",
    "fd = open(r\"a.txt\",\"w\")\n",
    "for i in range(5):\n",
    "    record= names[i]+str (\" \") + str(grades[i]+str(\"\\n\"))\n",
    "    val=fd.write(record)\n",
    "fd.close()\n",
    "\n",
    "\n",
    "#2nd code reading\n",
    "fd = open(r\"a.txt\",\"r\")\n",
    "file_data=fd.readlines()\n",
    "print(file_data)\n",
    "fd.close()"
   ]
  },
  {
   "cell_type": "code",
   "execution_count": 4,
   "metadata": {},
   "outputs": [
    {
     "name": "stdout",
     "output_type": "stream",
     "text": [
      "value: 1,portal: 5.33\n",
      "totle students:240,boys:120\n",
      "    031\n",
      " 3.561e+02\n"
     ]
    }
   ],
   "source": [
    "print(\"value:%2d,portal:%5.2f\" %(1,05.333))\n",
    "\n",
    "print(\"totle students:%3d,boys:%2d\"%(240,120))\n",
    "print(\"%7.3o\"%(25))\n",
    "print(\"%10.3e\"%(356.08977))"
   ]
  },
  {
   "cell_type": "code",
   "execution_count": 5,
   "metadata": {},
   "outputs": [
    {
     "name": "stdout",
     "output_type": "stream",
     "text": [
      "value:11250 is int and 30.57\n"
     ]
    }
   ],
   "source": [
    "print(\"value:%2d is int and %5.2f\"%(11250,30.569))"
   ]
  },
  {
   "cell_type": "code",
   "execution_count": 6,
   "metadata": {},
   "outputs": [
    {
     "name": "stdout",
     "output_type": "stream",
     "text": [
      "sum of  10 and 20 is 30\n",
      "sum of 10 and 20.0 is 30.00\n"
     ]
    }
   ],
   "source": [
    "a=10\n",
    "b=20\n",
    "sum=a+b\n",
    "print(\"sum of \",a,\"and\",b,\"is\",sum)\n",
    "print(\"sum of %2d and %2.1f is %2.2f\"%(a,b,sum))"
   ]
  },
  {
   "cell_type": "code",
   "execution_count": 1,
   "metadata": {},
   "outputs": [
    {
     "name": "stdout",
     "output_type": "stream",
     "text": [
      "8\n"
     ]
    }
   ],
   "source": [
    "file_object=open(\"a.txt\",\"w\")\n",
    "print(file_object.write(\"hi there\"))\n",
    "\n",
    "file_object.close()"
   ]
  },
  {
   "cell_type": "code",
   "execution_count": null,
   "metadata": {},
   "outputs": [],
   "source": []
  },
  {
   "cell_type": "code",
   "execution_count": 3,
   "metadata": {},
   "outputs": [
    {
     "name": "stdout",
     "output_type": "stream",
     "text": [
      "['Name', 'Branch', 'Year', 'CGPA']\n",
      "[]\n",
      "['Akash', 'CS', 'Final Year', '8.0']\n",
      "[]\n",
      "['Ankitha', 'CS', 'Final Year', '8.5']\n",
      "[]\n",
      "['Chandru', 'CS', 'Final Year', '7.0']\n",
      "[]\n",
      "['Arvind', 'CS', 'Final Year', '9.0']\n",
      "[]\n",
      "['Lokesh', 'CS', 'Final Year', '8.0']\n",
      "[]\n",
      "['Kiran', 'CS', 'Final Year', '8.5']\n",
      "[]\n",
      "['Umar', 'CS', 'Final Year', '7.0']\n",
      "[]\n",
      "['Nikhil', 'Mech', 'Final Year', '8.5']\n",
      "[]\n",
      "['Sangmesh', 'Mech', 'Final Year', '8.5']\n",
      "[]\n",
      "['Ragu', 'CS', 'Final Year', '9.0']\n",
      "[]\n"
     ]
    }
   ],
   "source": [
    "import csv\n",
    "\n",
    "field =['Name','Branch','Year','CGPA']\n",
    "rows=[['Akash','CS','Final Year',8.0],\n",
    "      ['Ankitha','CS','Final Year',8.5],\n",
    "      ['Chandru','CS','Final Year',7.0],\n",
    "      ['Arvind','CS','Final Year',9.0],\n",
    "      ['Lokesh','CS','Final Year',8.0],\n",
    "      ['Kiran','CS','Final Year',8.5],\n",
    "      ['Umar','CS','Final Year',7.0],\n",
    "      ['Nikhil','Mech','Final Year',8.5],\n",
    "      ['Sangmesh','Mech','Final Year',8.5],\n",
    "      ['Ragu','CS','Final Year',9.0]\n",
    "]\n",
    "\n",
    "filename='keonics.csv'\n",
    "\n",
    "with open(filename,'w') as csvfile:\n",
    "    writer_object= csv.writer(csvfile)\n",
    "    writer_object.writerow(field)\n",
    "    writer_object.writerows(rows)\n",
    "\n",
    "\n",
    "with open(filename,'r') as csvfile:\n",
    "      data=csv.reader(csvfile)\n",
    "      for line in data:\n",
    "            print(line)"
   ]
  },
  {
   "cell_type": "code",
   "execution_count": 19,
   "metadata": {},
   "outputs": [
    {
     "name": "stdout",
     "output_type": "stream",
     "text": [
      "Destination\n",
      "London, UK\n",
      "Phuket, Thailand\n",
      "Bali, Indonesia\n",
      "New York, USA\n",
      "Tokyo, Japan\n",
      "Paris, France\n",
      "Sydney, Australia\n",
      "Rio de Janeiro, Brazil\n",
      "Amsterdam, Netherlands\n",
      "Dubai, United Arab Emirates\n",
      "Cancun, Mexico\n",
      "Barcelona, Spain\n",
      "Honolulu, Hawaii\n",
      "Berlin, Germany\n",
      "Marrakech, Morocco\n",
      "Edinburgh, Scotland\n",
      "Paris\n",
      "Bali\n",
      "London\n",
      "Tokyo\n",
      "New York\n",
      "Sydney\n",
      "Rome\n",
      "Bangkok\n",
      "Paris\n",
      "Hawaii\n",
      "Barcelona\n",
      "Japan\n",
      "Thailand\n",
      "France\n",
      "Australia\n",
      "Brazil\n",
      "Greece\n",
      "Egypt\n",
      "Mexico\n",
      "Italy\n",
      "Spain\n",
      "Canada\n",
      "Paris, France\n",
      "Sydney, Australia\n",
      "Tokyo, Japan\n",
      "Cancun, Mexico\n",
      "Rio de Janeiro, Brazil\n",
      "London, UK\n",
      "Barcelona, Spain\n",
      "New York City, USA\n",
      "Bangkok, Thailand\n",
      "Vancouver, Canada\n",
      "Amsterdam, Netherlands\n",
      "Paris, France\n",
      "Tokyo, Japan\n",
      "Sydney, AUS\n",
      "New York, USA\n",
      "Rio de Janeiro, Brazil\n",
      "Bangkok, Thailand\n",
      "London, UK\n",
      "Barcelona, Spain\n",
      "Seoul, South Korea\n",
      "Los Angeles, USA\n",
      "Rome, Italy\n",
      "Paris\n",
      "Tokyo\n",
      "Cape Town\n",
      "Sydney\n",
      "Barcelona\n",
      "Bali\n",
      "Paris\n",
      "New York\n",
      "Bangkok\n",
      "Rome\n",
      "Bali\n",
      "\n",
      "Bali, Indonesia\n",
      "Tokyo, Japan\n",
      "Cancun, Mexico\n",
      "Paris, France\n",
      "Cape Town, SA\n",
      "Bali, Indonesia\n",
      "Sydney, Aus\n",
      "Bangkok, Thai\n",
      "New York, USA\n",
      "Phuket, Thai\n",
      "Rome, Italy\n",
      "Paris\n",
      "Tokyo\n",
      "Bali\n",
      "Sydney\n",
      "New York\n",
      "London\n",
      "Dubai\n",
      "Bangkok\n",
      "Rome\n",
      "Bali\n",
      "Seoul\n",
      "Paris\n",
      "Tokyo\n",
      "Sydney\n",
      "London\n",
      "New York\n",
      "Rome\n",
      "Bangkok\n",
      "Cape Town\n",
      "Rio de Janeiro\n",
      "Bali\n",
      "Amsterdam\n",
      "Paris\n",
      "Tokyo\n",
      "New York\n",
      "Bali\n",
      "Sydney\n",
      "London\n",
      "Phuket\n",
      "Rome\n",
      "Santorini\n",
      "Dubai\n",
      "Phnom Penh\n",
      "Tokyo, Japan\n",
      "Paris, France\n",
      "Sydney, Aus\n",
      "Rome, Italy\n",
      "Bali, Indonesia\n",
      "Cancun, Mexico\n",
      "Athens, Greece\n",
      "Tokyo, Japan\n",
      "Sydney, Aus\n",
      "Paris, France\n",
      "Bali, Indonesia\n",
      "\n",
      "Paris, France\n",
      "Tokyo, Japan\n",
      "Cape Town, South Africa\n",
      "Sydney, Australia\n",
      "Rome, Italy\n",
      "New York City, USA\n",
      "Rio de Janeiro, Brazil\n",
      "Vancouver, Canada\n",
      "Bangkok, Thailand\n",
      "Barcelona, Spain\n",
      "Auckland, New Zealand\n"
     ]
    }
   ],
   "source": [
    "import csv\n",
    "\n",
    "\n",
    "with open(\"C:/Users/lenovo/OneDrive/Desktop/Travel details dataset.csv\",\"r\") as file_object:\n",
    "\n",
    "    data_table = csv.reader(file_object) \n",
    "    \n",
    "    for line in data_table:   \n",
    "        \n",
    "        \n",
    "        print(line[1])"
   ]
  },
  {
   "cell_type": "code",
   "execution_count": 13,
   "metadata": {},
   "outputs": [
    {
     "name": "stdout",
     "output_type": "stream",
     "text": [
      "ON: True\n",
      "OFF: False\n",
      "bulb is ON\n",
      "ON: False\n",
      "OFF: True\n",
      "bulb is OFF\n"
     ]
    }
   ],
   "source": [
    "class bulb:\n",
    "    #Attributes\n",
    "    ON = False\n",
    "    OFF = False\n",
    "\n",
    "    def __init__(self,status1,status2):\n",
    "        self.ON=status1\n",
    "        self.OFF=status2\n",
    "\n",
    "    #methods\n",
    "    def status(self):\n",
    "        print(\"ON:\",self.ON) \n",
    "        print(\"OFF:\",self.OFF)\n",
    "    def switch(self):\n",
    "        if self.ON==True:\n",
    "            print(\"bulb is ON\")   \n",
    "        else:\n",
    "            print(\"bulb is OFF\")       \n",
    "\n",
    "obj = bulb(True,False)\n",
    "obj.status()\n",
    "obj.switch()\n",
    "\n",
    "\n",
    "obj = bulb(False,True)\n",
    "obj.status()\n",
    "obj.switch()"
   ]
  },
  {
   "cell_type": "code",
   "execution_count": 15,
   "metadata": {},
   "outputs": [
    {
     "ename": "TypeError",
     "evalue": "car.__init__() missing 1 required positional argument: 'cc'",
     "output_type": "error",
     "traceback": [
      "\u001b[1;31m---------------------------------------------------------------------------\u001b[0m",
      "\u001b[1;31mTypeError\u001b[0m                                 Traceback (most recent call last)",
      "Cell \u001b[1;32mIn[15], line 17\u001b[0m\n\u001b[0;32m     15\u001b[0m     \u001b[39mdef\u001b[39;00m \u001b[39mcardeatils\u001b[39m(\u001b[39mself\u001b[39m):\n\u001b[0;32m     16\u001b[0m         \u001b[39mprint\u001b[39m(\u001b[39m\"\u001b[39m\u001b[39mcardeatils:\u001b[39m\u001b[39m\"\u001b[39m,\u001b[39mself\u001b[39m\u001b[39m.\u001b[39mwheels,\u001b[39mself\u001b[39m\u001b[39m.\u001b[39mseatingcapacity,\u001b[39mself\u001b[39m\u001b[39m.\u001b[39mnameofthecar,\u001b[39mself\u001b[39m\u001b[39m.\u001b[39mcarmodel,\u001b[39mself\u001b[39m\u001b[39m.\u001b[39mfueltype,\u001b[39mself\u001b[39m\u001b[39m.\u001b[39mcc)\n\u001b[1;32m---> 17\u001b[0m obj\u001b[39m=\u001b[39mcar(\u001b[39m5\u001b[39;49m,\u001b[39m\"\u001b[39;49m\u001b[39mmaruti\u001b[39;49m\u001b[39m\"\u001b[39;49m,\u001b[39m\"\u001b[39;49m\u001b[39m800\u001b[39;49m\u001b[39m\"\u001b[39;49m,\u001b[39m\"\u001b[39;49m\u001b[39mpetrol\u001b[39;49m\u001b[39m\"\u001b[39;49m,\u001b[39m\"\u001b[39;49m\u001b[39m800\u001b[39;49m\u001b[39m\"\u001b[39;49m)\n\u001b[0;32m     18\u001b[0m obj\u001b[39m.\u001b[39mcardeatils()        \n",
      "\u001b[1;31mTypeError\u001b[0m: car.__init__() missing 1 required positional argument: 'cc'"
     ]
    }
   ],
   "source": [
    "class car:\n",
    "    wheels=4\n",
    "    seatingcapacity=\"\"\n",
    "    nameofthecar=\"\"\n",
    "    carmodel=\"\"\n",
    "    fueltype=\"\"\n",
    "    cc=\"\"\n",
    "    def __init__(self,wheels,seatingcapacity,nameofthecar,carmodel,fueltype,cc):\n",
    "        self.wheels=wheels\n",
    "        self.seatingcapacity=seatingcapacity\n",
    "        self.nameofthecar=nameofthecar\n",
    "        self.carmodel=carmodel\n",
    "        self.fueltype=fueltype\n",
    "        self.cc=cc\n",
    "    def cardeatils(self):\n",
    "        print(\"cardeatils:\",self.wheels,self.seatingcapacity,self.nameofthecar,self.carmodel,self.fueltype,self.cc)\n",
    "obj=car(5,\"maruti\",\"800\",\"petrol\",\"800\")\n",
    "obj.cardeatils()        \n"
   ]
  }
 ],
 "metadata": {
  "kernelspec": {
   "display_name": "Python 3",
   "language": "python",
   "name": "python3"
  },
  "language_info": {
   "codemirror_mode": {
    "name": "ipython",
    "version": 3
   },
   "file_extension": ".py",
   "mimetype": "text/x-python",
   "name": "python",
   "nbconvert_exporter": "python",
   "pygments_lexer": "ipython3",
   "version": "3.11.3"
  },
  "orig_nbformat": 4
 },
 "nbformat": 4,
 "nbformat_minor": 2
}
