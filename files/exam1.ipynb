{
 "cells": [
  {
   "cell_type": "code",
   "execution_count": 2,
   "metadata": {},
   "outputs": [
    {
     "name": "stdout",
     "output_type": "stream",
     "text": [
      "0\n",
      "1\n",
      "2\n"
     ]
    }
   ],
   "source": [
    "for i in range(5):\n",
    "    if i==3:\n",
    "        break\n",
    "    print (i)"
   ]
  },
  {
   "cell_type": "code",
   "execution_count": 8,
   "metadata": {},
   "outputs": [
    {
     "name": "stdout",
     "output_type": "stream",
     "text": [
      "123"
     ]
    }
   ],
   "source": [
    "for i in range(1,5):\n",
    "    if i==4:\n",
    "        continue\n",
    "    else:\n",
    "        print(i, end=\"\")"
   ]
  },
  {
   "cell_type": "code",
   "execution_count": 9,
   "metadata": {},
   "outputs": [
    {
     "name": "stdout",
     "output_type": "stream",
     "text": [
      "3 num is odd\n"
     ]
    }
   ],
   "source": [
    "def evenodd(n):\n",
    "    if(n==0):\n",
    "        return True\n",
    "    elif(n==1):\n",
    "        return False\n",
    "    else:\n",
    "        return evenodd(n-2)\n",
    "num=3\n",
    "if(evenodd(num)):\n",
    "    print(num,\"num is even\")\n",
    "else:\n",
    "    print(num,\"num is odd\")"
   ]
  },
  {
   "cell_type": "code",
   "execution_count": 13,
   "metadata": {},
   "outputs": [
    {
     "name": "stdout",
     "output_type": "stream",
     "text": [
      "original key list is:['ravi', 'geeta', 'varsha']\n",
      "original values list:[1, 4, 5]\n",
      "resultant dictionary is :{}\n"
     ]
    }
   ],
   "source": [
    "test_keys=[\"ravi\",\"geeta\",\"varsha\"]\n",
    "test_values=[1,4,5]\n",
    "print(\"original key list is:\"+str(test_keys))\n",
    "print(\"original values list:\"+str(test_values))\n",
    "res={}\n",
    "for key in test_keys:\n",
    "    for values in test_values:\n",
    "        test_values.remove(values)\n",
    "        break\n",
    "print(\"resultant dictionary is :\"+str(res))"
   ]
  },
  {
   "cell_type": "code",
   "execution_count": 19,
   "metadata": {},
   "outputs": [
    {
     "name": "stdout",
     "output_type": "stream",
     "text": [
      "the principal is 7500\n",
      "the time period is 6\n",
      "the rate of interest is 10\n",
      "the simple interest is 450000\n"
     ]
    }
   ],
   "source": [
    "def simplae_interest(p,t,r):\n",
    "    print('the principal is',p)\n",
    "    print('the time period is',t)\n",
    "    print('the rate of interest is',r)\n",
    "    si=(p*t*r)\n",
    "    print('the simple interest is',si)\n",
    "simplae_interest(7500,6,10)"
   ]
  },
  {
   "cell_type": "code",
   "execution_count": 20,
   "metadata": {},
   "outputs": [
    {
     "name": "stdout",
     "output_type": "stream",
     "text": [
      "the largest number is 40\n"
     ]
    }
   ],
   "source": [
    "num1=(input(\"enter first number:\"))\n",
    "num2=(input(\"enter second number:\"))\n",
    "num3=(input(\"enter third number:\"))\n",
    "if(num1>num2) and(num1>num3):\n",
    "    largest=num1\n",
    "elif(num2>num1)and(num2>num3):\n",
    "    largest=num2\n",
    "else:\n",
    "    largest=num3\n",
    "print(\"the largest number is\",largest)"
   ]
  },
  {
   "cell_type": "code",
   "execution_count": 23,
   "metadata": {},
   "outputs": [
    {
     "name": "stdout",
     "output_type": "stream",
     "text": [
      "11 is a prime number\n",
      "11 is a prime number\n",
      "11 is a prime number\n",
      "11 is a prime number\n",
      "11 is not a prime number\n"
     ]
    }
   ],
   "source": [
    "num=11\n",
    "if num>1:\n",
    "    for i in range(2,int(num/2)+1):\n",
    "        if(num%i)==0:\n",
    "            print(num,\"is not a prime number\")\n",
    "            break\n",
    "        else:\n",
    "            print(num,\"is a prime number\")\n",
    "    else:\n",
    "        print(num,\"is not a prime number\")\n"
   ]
  },
  {
   "cell_type": "code",
   "execution_count": 25,
   "metadata": {},
   "outputs": [
    {
     "name": "stdout",
     "output_type": "stream",
     "text": [
      "2154583"
     ]
    }
   ],
   "source": [
    "list1=[10,21,5,45,66,83]\n",
    "i=0\n",
    "while(i<len(list1)):\n",
    "    if list1[i]%2!=0:\n",
    "        print(list1[i],end=\"\")\n",
    "    i+=1"
   ]
  },
  {
   "cell_type": "code",
   "execution_count": 26,
   "metadata": {},
   "outputs": [
    {
     "name": "stdout",
     "output_type": "stream",
     "text": [
      "the dimension:4\n",
      "the created matrix of n*n:[[range(1, 5), range(5, 9), range(9, 13), range(13, 17)]]\n"
     ]
    }
   ],
   "source": [
    "n=4\n",
    "print(\"the dimension:\"+str(n))\n",
    "res=[list(range(1+n*i,1+n*(i+1))for i in range(n))]\n",
    "print(\"the created matrix of n*n:\"+str(res))"
   ]
  },
  {
   "cell_type": "code",
   "execution_count": 27,
   "metadata": {},
   "outputs": [
    {
     "name": "stdout",
     "output_type": "stream",
     "text": [
      "[1, 2, 5]\n"
     ]
    }
   ],
   "source": [
    "number=[1,2,5]\n",
    "print(number)"
   ]
  },
  {
   "cell_type": "code",
   "execution_count": 29,
   "metadata": {},
   "outputs": [
    {
     "name": "stdout",
     "output_type": "stream",
     "text": [
      "(0, 1, 2, 3)\n"
     ]
    }
   ],
   "source": [
    "tuple=(0,1,2,3)\n",
    "tuple[0]\n",
    "print(tuple)"
   ]
  }
 ],
 "metadata": {
  "kernelspec": {
   "display_name": "Python 3",
   "language": "python",
   "name": "python3"
  },
  "language_info": {
   "codemirror_mode": {
    "name": "ipython",
    "version": 3
   },
   "file_extension": ".py",
   "mimetype": "text/x-python",
   "name": "python",
   "nbconvert_exporter": "python",
   "pygments_lexer": "ipython3",
   "version": "3.11.3"
  },
  "orig_nbformat": 4
 },
 "nbformat": 4,
 "nbformat_minor": 2
}
