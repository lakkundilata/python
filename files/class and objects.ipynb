{
 "cells": [
  {
   "cell_type": "code",
   "execution_count": 1,
   "metadata": {},
   "outputs": [
    {
     "ename": "TypeError",
     "evalue": "car.__init__() missing 1 required positional argument: 'cc'",
     "output_type": "error",
     "traceback": [
      "\u001b[1;31m---------------------------------------------------------------------------\u001b[0m",
      "\u001b[1;31mTypeError\u001b[0m                                 Traceback (most recent call last)",
      "Cell \u001b[1;32mIn[1], line 17\u001b[0m\n\u001b[0;32m     15\u001b[0m     \u001b[39mdef\u001b[39;00m \u001b[39mcardeatils\u001b[39m(\u001b[39mself\u001b[39m):\n\u001b[0;32m     16\u001b[0m         \u001b[39mprint\u001b[39m(\u001b[39m\"\u001b[39m\u001b[39mcardeatils:\u001b[39m\u001b[39m\"\u001b[39m,\u001b[39mself\u001b[39m\u001b[39m.\u001b[39mwheels,\u001b[39mself\u001b[39m\u001b[39m.\u001b[39mseatingcapacity,\u001b[39mself\u001b[39m\u001b[39m.\u001b[39mnameofthecar,\u001b[39mself\u001b[39m\u001b[39m.\u001b[39mcarmodel,\u001b[39mself\u001b[39m\u001b[39m.\u001b[39mfueltype,\u001b[39mself\u001b[39m\u001b[39m.\u001b[39mcc)\n\u001b[1;32m---> 17\u001b[0m obj\u001b[39m=\u001b[39mcar(\u001b[39m5\u001b[39;49m,\u001b[39m\"\u001b[39;49m\u001b[39mmaruti\u001b[39;49m\u001b[39m\"\u001b[39;49m,\u001b[39m\"\u001b[39;49m\u001b[39m800\u001b[39;49m\u001b[39m\"\u001b[39;49m,\u001b[39m\"\u001b[39;49m\u001b[39mpetrol\u001b[39;49m\u001b[39m\"\u001b[39;49m,\u001b[39m\"\u001b[39;49m\u001b[39m800\u001b[39;49m\u001b[39m\"\u001b[39;49m)\n\u001b[0;32m     18\u001b[0m obj\u001b[39m.\u001b[39mcardeatils()        \n",
      "\u001b[1;31mTypeError\u001b[0m: car.__init__() missing 1 required positional argument: 'cc'"
     ]
    }
   ],
   "source": [
    "class car:\n",
    "    wheels=4\n",
    "    seatingcapacity=\"\"\n",
    "    nameofthecar=\"\"\n",
    "    carmodel=\"\"\n",
    "    fueltype=\"\"\n",
    "    cc=\"\"\n",
    "    def __init__(self,wheels,seatingcapacity,nameofthecar,carmodel,fueltype,cc):\n",
    "        self.wheels=wheels\n",
    "        self.seatingcapacity=seatingcapacity\n",
    "        self.nameofthecar=nameofthecar\n",
    "        self.carmodel=carmodel\n",
    "        self.fueltype=fueltype\n",
    "        self.cc=cc\n",
    "    def cardeatils(self):\n",
    "        print(\"cardeatils:\",self.wheels,self.seatingcapacity,self.nameofthecar,self.carmodel,self.fueltype,self.cc)\n",
    "obj=car(5,\"maruti\",\"800\",\"petrol\",\"800\")\n",
    "obj.cardeatils()        "
   ]
  },
  {
   "cell_type": "code",
   "execution_count": 15,
   "metadata": {},
   "outputs": [
    {
     "name": "stdout",
     "output_type": "stream",
     "text": [
      "Employee Name: khyati\n",
      "Employee Name: laxmi\n"
     ]
    }
   ],
   "source": [
    "class Employee:\n",
    "    employee_id = 0\n",
    "employee1 = Employee()\n",
    "employee2 = Employee()\n",
    "employee1.employeeName = \"khyati\"\n",
    "print(f\"Employee Name: {employee1.employeeName}\")\n",
    "employee2.employeeName = \"laxmi\"\n",
    "print(f\"Employee Name: {employee2.employeeName}\")"
   ]
  },
  {
   "cell_type": "code",
   "execution_count": 12,
   "metadata": {},
   "outputs": [
    {
     "name": "stdout",
     "output_type": "stream",
     "text": [
      "Area of Room = 1326.0\n"
     ]
    }
   ],
   "source": [
    "class Room:\n",
    "    length = 0.0\n",
    "    breadth = 0.0\n",
    "    def calculate_area(self):\n",
    "        print(\"Area of Room =\", self.length * self.breadth)\n",
    "study_room = Room()\n",
    "study_room.length = 32.5\n",
    "study_room.breadth = 40.8\n",
    "study_room.calculate_area()"
   ]
  },
  {
   "cell_type": "code",
   "execution_count": 10,
   "metadata": {},
   "outputs": [
    {
     "name": "stdout",
     "output_type": "stream",
     "text": [
      "Country:  America\n",
      "Name : English\n",
      "Country:  America\n",
      "Name : English\n",
      "Access Private Name:  English\n"
     ]
    }
   ],
   "source": [
    "class Language:\n",
    "    __country = \"America\"\n",
    "    def __init__(self, name):\n",
    "        self.__name = name\n",
    "    def __show(self):\n",
    "        print(\"Country: \", Language.__country)\n",
    "        print(\"Name :\", self.__name)\n",
    "    def display(self):\n",
    "        self.__show()\n",
    "lang = Language(\"English\")\n",
    "lang.display()\n",
    "lang._Language__show()\n",
    "print(\"Access Private Name: \",lang._Language__name)"
   ]
  },
  {
   "cell_type": "code",
   "execution_count": 5,
   "metadata": {},
   "outputs": [
    {
     "name": "stdout",
     "output_type": "stream",
     "text": [
      "Student: Geeta 12 chikkatti School\n",
      "Student: Geeta 14 tontadarya School\n"
     ]
    }
   ],
   "source": [
    "class Student:\n",
    "    school_name = 'chikkatti School'\n",
    "    def __init__(self, name, age):\n",
    "        self.name = name\n",
    "        self.age = age\n",
    "    def show(self):\n",
    "        print('Student:', self.name, self.age, Student.school_name)\n",
    "    def change_age(self, new_age):\n",
    "        self.age = new_age\n",
    "    @classmethod\n",
    "    def modify_school_name(cls, new_name):\n",
    "        cls.school_name = new_name\n",
    "s1 = Student(\"Geeta\", 12)\n",
    "s1.show()\n",
    "s1.change_age(14)\n",
    "Student.modify_school_name('tontadarya School')\n",
    "s1.show()"
   ]
  },
  {
   "cell_type": "code",
   "execution_count": 2,
   "metadata": {},
   "outputs": [
    {
     "name": "stdout",
     "output_type": "stream",
     "text": [
      "Volume of Cylinder: 68.48\n",
      "This is a Cylinder class that computes the volume using Pi=2.14\n",
      "This is a Cylinder class that computes the volume using Pi=2.14\n"
     ]
    }
   ],
   "source": [
    "class Cylinder:\n",
    "    pi = 2.14\n",
    "    def __init__(self, radius, height):\n",
    "        self.radius = radius\n",
    "        self.height = height\n",
    "    def volume(self):\n",
    "        return Cylinder.pi * self.radius**2 * self.height\n",
    "    @classmethod\n",
    "    def description(cls):\n",
    "        return f'This is a Cylinder class that computes the volume using Pi={cls.pi}'\n",
    "if __name__ == '__main__':\n",
    "    c1 = Cylinder(4, 2)\n",
    "    print(f'Volume of Cylinder: {c1.volume()}') \n",
    "    print(Cylinder.description()) \n",
    "    print(c1.description()) "
   ]
  },
  {
   "cell_type": "code",
   "execution_count": 29,
   "metadata": {},
   "outputs": [
    {
     "name": "stdout",
     "output_type": "stream",
     "text": [
      "No fuel available.\n"
     ]
    }
   ],
   "source": [
    "class truck:\n",
    "    # attributes\n",
    "    seat=2\n",
    "    tyre=6\n",
    "    fuel=\"d\"\n",
    "    carrier=\"goods\"\n",
    "    fuelstate=True\n",
    "\n",
    "    #methods\n",
    "\n",
    "    def Drive(self):\n",
    "        if self.fuelstate == True:\n",
    "            print(\"Ready to drive,fuel available.\")\n",
    "        else:\n",
    "            print(\"No fuel available.\")\n",
    "    def __init__(self,seat,tyre):\n",
    "        self.seat=seat\n",
    "        self.tyre=tyre\n",
    "        self.fuel=\"petrol\"\n",
    "        self.carrier=\"Frozen goods\"\n",
    "        self.fuelstate= False\n",
    "obj=truck(4,8)\n",
    "obj.Drive()   "
   ]
  },
  {
   "cell_type": "code",
   "execution_count": 37,
   "metadata": {},
   "outputs": [
    {
     "name": "stdout",
     "output_type": "stream",
     "text": [
      "laxmi 32 70 90 30\n"
     ]
    }
   ],
   "source": [
    "class students:\n",
    "    studentName=\"xyz\"\n",
    "    studentRolnum=38\n",
    "    marks1=50\n",
    "    marks2=78\n",
    "    marks3=80\n",
    "    def studentInformation(self):\n",
    "        print(self.studentName,self.studentRolnum,self.marks1,self.marks2,self.marks3)\n",
    "    def __init__(self,studentName,studentRolnum,marks1,marks2,marks3):\n",
    "        self.studentName=\"laxmi\"\n",
    "        self.studentRolnum=32\n",
    "        self.marks1=70\n",
    "        self.marks2=90\n",
    "        self.marks3=30\n",
    "    def add(self):\n",
    "        sum=self.marks1+self.marks2+self.marks3\n",
    "        print(sum)\n",
    "student1_object=students(\"khyati\",32,90,98,99) \n",
    "student1_object.studentInformation()\n",
    "\n",
    "\n"
   ]
  },
  {
   "cell_type": "code",
   "execution_count": 2,
   "metadata": {},
   "outputs": [
    {
     "ename": "AttributeError",
     "evalue": "'child' object has no attribute '_child__c'",
     "output_type": "error",
     "traceback": [
      "\u001b[1;31m---------------------------------------------------------------------------\u001b[0m",
      "\u001b[1;31mAttributeError\u001b[0m                            Traceback (most recent call last)",
      "Cell \u001b[1;32mIn[2], line 9\u001b[0m\n\u001b[0;32m      7\u001b[0m         parents\u001b[39m.\u001b[39m\u001b[39m__init__\u001b[39m(\u001b[39mself\u001b[39m\u001b[39m.\u001b[39m__c)\n\u001b[0;32m      8\u001b[0m         \u001b[39mprint\u001b[39m(\u001b[39mself\u001b[39m\u001b[39m.\u001b[39m__c)\n\u001b[1;32m----> 9\u001b[0m obj1\u001b[39m=\u001b[39mchild()\n\u001b[0;32m     10\u001b[0m \u001b[39mprint\u001b[39m(obj1\u001b[39m.\u001b[39m__c)\n",
      "Cell \u001b[1;32mIn[2], line 7\u001b[0m, in \u001b[0;36mchild.__init__\u001b[1;34m(self)\u001b[0m\n\u001b[0;32m      6\u001b[0m \u001b[39mdef\u001b[39;00m \u001b[39m__init__\u001b[39m(\u001b[39mself\u001b[39m):\n\u001b[1;32m----> 7\u001b[0m     parents\u001b[39m.\u001b[39m\u001b[39m__init__\u001b[39m(\u001b[39mself\u001b[39;49m\u001b[39m.\u001b[39;49m__c)\n\u001b[0;32m      8\u001b[0m     \u001b[39mprint\u001b[39m(\u001b[39mself\u001b[39m\u001b[39m.\u001b[39m__c)\n",
      "\u001b[1;31mAttributeError\u001b[0m: 'child' object has no attribute '_child__c'"
     ]
    }
   ],
   "source": [
    "class parents():\n",
    "    def __init__(self):\n",
    "        self.a = \"python\"\n",
    "        self.__c = \"c programming\"\n",
    "class child (parents):\n",
    "    def __init__(self):\n",
    "        parents.__init__(self)\n",
    "        print(self.__c)\n",
    "obj1=child()\n",
    "print(obj1.__c)\n"
   ]
  },
  {
   "cell_type": "code",
   "execution_count": 12,
   "metadata": {},
   "outputs": [
    {
     "name": "stdout",
     "output_type": "stream",
     "text": [
      "sum: 30\n"
     ]
    }
   ],
   "source": [
    "class base():\n",
    "    a=10\n",
    "class derived(base):\n",
    "    b=20\n",
    "\n",
    "     #virtually available to derived a=10\n",
    "     \n",
    "    def add(self):\n",
    "        c=self.a+self.b\n",
    "        print(\"sum:\",c)\n",
    "obj1=derived()\n",
    "obj1.add()      \n"
   ]
  },
  {
   "attachments": {},
   "cell_type": "markdown",
   "metadata": {},
   "source": [
    "PASS"
   ]
  },
  {
   "cell_type": "code",
   "execution_count": 11,
   "metadata": {},
   "outputs": [],
   "source": [
    "class pass_class():\n",
    "    def pass_func(self,):\n",
    "        if 20>10:\n",
    "            print=(\"20 is greater\")\n",
    "            pass\n",
    "            print=(\"10 is smaller\")\n",
    "obj1=pass_class()\n",
    "obj1.pass_func()\n"
   ]
  },
  {
   "cell_type": "code",
   "execution_count": 14,
   "metadata": {},
   "outputs": [
    {
     "name": "stdout",
     "output_type": "stream",
     "text": [
      "i am triangle have 3 sides\n"
     ]
    }
   ],
   "source": [
    "from abc import ABC, abstractmethod\n",
    "class polygon():\n",
    "    @abstractmethod\n",
    "    def noofsides(self):\n",
    "        pass\n",
    "class triangle(polygon):  \n",
    "    def sides(self):\n",
    "        print(\"i am triangle have 3 sides\")\n",
    "obj1=triangle()\n",
    "obj1.sides()"
   ]
  },
  {
   "attachments": {},
   "cell_type": "markdown",
   "metadata": {},
   "source": [
    "create 5 classes of engineers with their attributes with job descripitions using inheritance"
   ]
  },
  {
   "cell_type": "code",
   "execution_count": null,
   "metadata": {},
   "outputs": [],
   "source": []
  }
 ],
 "metadata": {
  "kernelspec": {
   "display_name": "Python 3",
   "language": "python",
   "name": "python3"
  },
  "language_info": {
   "codemirror_mode": {
    "name": "ipython",
    "version": 3
   },
   "file_extension": ".py",
   "mimetype": "text/x-python",
   "name": "python",
   "nbconvert_exporter": "python",
   "pygments_lexer": "ipython3",
   "version": "3.11.3"
  },
  "orig_nbformat": 4
 },
 "nbformat": 4,
 "nbformat_minor": 2
}
